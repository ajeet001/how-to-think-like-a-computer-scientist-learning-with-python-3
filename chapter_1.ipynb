{
 "cells": [
  {
   "cell_type": "markdown",
   "metadata": {},
   "source": [
    "---\n",
    "\n",
    "## **Chapter 1 - Solutions**\n",
    "\n",
    "Name: **Ajeet**\n",
    "\n",
    "Collaborators: None\n",
    "\n",
    "Time spent:\n",
    "\n",
    "---"
   ]
  },
  {
   "cell_type": "markdown",
   "metadata": {},
   "source": [
    "### Question 1\n",
    "\n",
    "Write an English sentence with understandable semantics but incorrect syntax. Write another English sentence which has correct syntax but has semantic errors.\n",
    "\n",
    "\n",
    "### Answer\n",
    " - Understandable semantics but incorrect syntax\n",
    " \n",
    "    i am a good boy\n",
    "    \n",
    "- Correct syntax but has semantic errors\n",
    "\n",
    "    I am a boy good."
   ]
  },
  {
   "cell_type": "markdown",
   "metadata": {},
   "source": [
    "---\n",
    "\n",
    "### Question 2\n",
    "\n",
    "(a) Type 6 + 4 * 9 at the Python prompt/terminal/commandPrompt and hit enter. Record what happens.\n",
    "\n",
    "(b) Now create a Python script with the following contents:\n",
    "    6 + 4 * 9\n",
    "    What happens when you run this script?\n",
    "\n",
    "(c) Now change the script contents to:  print(6 + 4 * 9)\n",
    "    and run it again. What happened this time?\n",
    "\n",
    "\n",
    "### Answer\n",
    "\n",
    "(a) I get the answer 42 automatically once I hit Enter. It is just like calculator, if you type this expression you’ll get the result 42\n",
    "\n",
    "(b) I created a python script, named it as \"solution.py\" and put 6 + 4 * 9, and ran it.\n",
    "The script ran successfully without any error but I did not get the result 42.\n",
    "\n",
    "(c)  I created a python script, named it as \"solution_print.py\" and put print(6 + 4 * 9), and ran it.\n",
    "The script ran successfully and got the result 42.\n",
    "This means it is necessary to use the `print` function to make the answer show up\n",
    "\n",
    "When y = x at the second statement, the value of y became 15. At 3rd statement, the value of x chanaged to 22, but the value of y remained at 15. So, x = 22, y =15"
   ]
  },
  {
   "cell_type": "code",
   "execution_count": 1,
   "metadata": {},
   "outputs": [
    {
     "name": "stdout",
     "output_type": "stream",
     "text": [
      "42\n"
     ]
    }
   ],
   "source": [
    "print(6 + 4 * 9)"
   ]
  },
  {
   "cell_type": "markdown",
   "metadata": {},
   "source": [
    "---\n",
    "\n",
    "## **Concepts from Book**\n",
    "\n",
    "---\n",
    "\n",
    "If there is a single **syntax error** anywhere in your program, Python will display an error message and quit,\n",
    "and you will not be able to run your program.  Python can detect the syntax error by looking at the code without running it.\n",
    "For example, in English, a sentence must begin with a capital\n",
    "letter and end with a period. this sentence contains a syntax error. So does this one\n",
    "\n",
    "If there is a **semantic error** in your program, it will run successfully, in the sense that the computer will not\n",
    "generate any error messages, but it will produce the output you wanted to see.\n",
    "Specifically, it will do what you told it to do by writing the program.\n",
    "Its semantics(the meaning of the program) is wrong.\n",
    "For example, a programmer wants to convert 25 to percentage, but he forgets to divide 25 by 100 when printing a percentage amount.\n",
    "So, his intention was to see the 25% as output, but the code he wrote missed the division by 100,\n",
    "and that is why Python did not produced the output as percentage, rather it produced wht the programmer wrote in the script\n",
    "\n",
    "**Runtime Error**: The error does not appear until you run the program. These errors are also called exceptions\n",
    "because they usually indicate that something exceptional (and bad) has happened.\n",
    "Type `cheese` without the quotation marks. The output will look something like this:\n",
    "`\"NameError: name 'cheese' is not defined\"`\n",
    "Specifically, it is a `NameError`, and even more specifically, it is an error because the name cheese is not defined.\n",
    "\n",
    "\n",
    "**Semantic error** -  An error in a program that makes it do something other than what the programmer intended.\n",
    "    \n",
    "**Semantics** - The meaning of a program.\n",
    "    \n",
    "**Syntax** -  The structure of a program.\n",
    "    \n",
    "**Syntax error** -  An error in a program that makes it impossible to parse — and therefore impossible to interpret."
   ]
  },
  {
   "cell_type": "code",
   "execution_count": null,
   "metadata": {},
   "outputs": [],
   "source": []
  }
 ],
 "metadata": {
  "kernelspec": {
   "display_name": "Python 3",
   "language": "python",
   "name": "python3"
  },
  "language_info": {
   "codemirror_mode": {
    "name": "ipython",
    "version": 3
   },
   "file_extension": ".py",
   "mimetype": "text/x-python",
   "name": "python",
   "nbconvert_exporter": "python",
   "pygments_lexer": "ipython3",
   "version": "3.7.6"
  }
 },
 "nbformat": 4,
 "nbformat_minor": 4
}
