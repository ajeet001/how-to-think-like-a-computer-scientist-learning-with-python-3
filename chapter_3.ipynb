{
 "cells": [
  {
   "cell_type": "markdown",
   "metadata": {},
   "source": [
    "---\n",
    "\n",
    "## **Chapter 3 - Solutions**\n",
    "\n",
    "Name: **Ajeet**\n",
    "\n",
    "Collaborators: None\n",
    "\n",
    "Time spent:\n",
    "\n",
    "---"
   ]
  },
  {
   "cell_type": "markdown",
   "metadata": {},
   "source": [
    "### Question 1\n",
    "\n",
    "Write a program that prints `We like Python's turtles!` 5 times."
   ]
  },
  {
   "cell_type": "code",
   "execution_count": 19,
   "metadata": {},
   "outputs": [
    {
     "name": "stdout",
     "output_type": "stream",
     "text": [
      "We like Python's turtles!\n",
      "We like Python's turtles!\n",
      "We like Python's turtles!\n",
      "We like Python's turtles!\n",
      "We like Python's turtles!\n"
     ]
    }
   ],
   "source": [
    "for i in range(5):\n",
    "    print(\"We like Python's turtles!\")"
   ]
  },
  {
   "cell_type": "markdown",
   "metadata": {},
   "source": [
    "---\n",
    "\n",
    "### Question 2 \n",
    "\n",
    "Give three attributes of your cellphone object. Give three methods of your cellphone.\n",
    "\n",
    "### Answer\n",
    "\n",
    "A DataFrame or Series  has certain Methods and Attributes. Let us say `AJEET` is a python `object`.\n",
    "\n",
    "\n",
    "* Attributes are just like description about who `AJEET` is. Attributes might be:-  AJEET.age     or     AJEET.height    or AJEET.weight  ..... \n",
    "\n",
    "Example: `.dtypes`, `.shape`\n",
    "\n",
    "* Methods are equivalent to actions/action oriented i.e. what AJEET does. \n",
    "\n",
    "Example: `.max()`, `.describe()`, `.head()`\n",
    "\n",
    "\n",
    "A cellphone has a call button, an sms button, and video player. These are attributes of a cellphone\n",
    "A cellphone can be used to call using call button, movies can be watched. Thses are methods."
   ]
  },
  {
   "cell_type": "markdown",
   "metadata": {},
   "source": [
    "---\n",
    "\n",
    "### Question 3\n",
    "\n",
    "Write a program that uses a `for` loop to print\n",
    "\n",
    "`One of the months of the year is January`\n",
    "\n",
    "`One of the months of the year is February`\n",
    " \n",
    " `...`\n",
    "\n",
    "\n",
    "### Answer"
   ]
  },
  {
   "cell_type": "code",
   "execution_count": 21,
   "metadata": {},
   "outputs": [
    {
     "name": "stdout",
     "output_type": "stream",
     "text": [
      "One of the months of the year is January\n",
      "One of the months of the year is February\n"
     ]
    }
   ],
   "source": [
    "for loop_variable in ['January', 'February']:\n",
    "    print(\"One of the months of the year is\" , loop_variable)"
   ]
  },
  {
   "cell_type": "markdown",
   "metadata": {},
   "source": [
    "### Question 4\n",
    "\n",
    "Assume you have a list of numbers 12, 10, 32\n",
    "\n",
    "1. Write a loop that prints each of the numbers on a new line.\n",
    "\n",
    "2. Write a loop that prints each number and its square on a new line.\n",
    "\n",
    "### Answer"
   ]
  },
  {
   "cell_type": "code",
   "execution_count": 22,
   "metadata": {},
   "outputs": [
    {
     "name": "stdout",
     "output_type": "stream",
     "text": [
      "12\n",
      "10\n",
      "32\n"
     ]
    }
   ],
   "source": [
    "for loop_variable in [12, 10, 32]:\n",
    "    print(loop_variable)    "
   ]
  },
  {
   "cell_type": "code",
   "execution_count": 23,
   "metadata": {},
   "outputs": [
    {
     "name": "stdout",
     "output_type": "stream",
     "text": [
      "12 144\n",
      "10 100\n",
      "32 1024\n"
     ]
    }
   ],
   "source": [
    "for loop_variable in [12, 10, 32]:\n",
    "    print(loop_variable, loop_variable**2)    "
   ]
  },
  {
   "cell_type": "markdown",
   "metadata": {},
   "source": [
    "## Question 5\n",
    "\n",
    "Use `for` loops to make a turtle draw these regular polygons (regular means all sides the same lengths, all angles the same):\n",
    "\n",
    "    An equilateral triangle\n",
    "\n",
    "    A square\n",
    "\n",
    "    A hexagon (six sides)\n",
    "\n",
    "    An octagon (eight sides)\n",
    "\n",
    "### Answer"
   ]
  },
  {
   "cell_type": "code",
   "execution_count": 1,
   "metadata": {},
   "outputs": [],
   "source": [
    "import turtle               # load a module named turtle\n",
    "\n",
    "# The module brings us two new types that we can use: the `Turtle` type, and the `Screen` type. \n",
    "wn = turtle.Screen()        # creates a graphics window\n",
    "alex = turtle.Turtle()    #creates a turtle named `alex`. Here `alex` is a variable\n",
    "\n",
    "# equilateral triangle means we have to create 3 sides( 3 times so range(3)) of equal leangth with each angle 60 degree\n",
    "\n",
    "for triangle in range(3):  # range(3) means 3 times e.g. 0,1, and 2 , so three sides will be created\n",
    "    alex.forward(100)\n",
    "    alex.left(120)  # I have taken 120 degree because when moving to left, the angle would be 90+30\n",
    "\n",
    "wn.exitonclick()"
   ]
  },
  {
   "cell_type": "code",
   "execution_count": 2,
   "metadata": {},
   "outputs": [],
   "source": [
    "import turtle               # load a module named turtle\n",
    "\n",
    "# The module brings us two new types that we can use: the `Turtle` type, and the `Screen` type.\n",
    "wn = turtle.Screen()        # creates a graphics window\n",
    "alex = turtle.Turtle()    #creates a turtle named `alex`. Here `alex` is a variable\n",
    "\n",
    "\n",
    "for square in range(6):\n",
    "    alex.forward(100)\n",
    "    alex.left(90)  \n",
    "\n",
    "wn.exitonclick()"
   ]
  },
  {
   "cell_type": "code",
   "execution_count": 1,
   "metadata": {},
   "outputs": [],
   "source": [
    "# hexagon -  it is important, check the angle\n",
    "\n",
    "import turtle               # load a module named turtle\n",
    "\n",
    "# The module brings us two new types that we can use: the `Turtle` type, and the `Screen` type.\n",
    "wn = turtle.Screen()        # creates a graphics window\n",
    "alex = turtle.Turtle()    #creates a turtle named `alex`. Here `alex` is a variable\n",
    "\n",
    "\n",
    "for hexagon in range(6):\n",
    "    alex.forward(100)\n",
    "    alex.left(360/6)  # since hexagon, the angle will be changed, each angle will be 60 degree\n",
    "\n",
    "wn.exitonclick()"
   ]
  },
  {
   "cell_type": "markdown",
   "metadata": {},
   "source": [
    "# Question 6\n",
    "Write a program that asks the user for the number of sides, the length of the side, the color, and the fill color of a regular polygon. The program should draw the polygon and then fill it in."
   ]
  },
  {
   "cell_type": "code",
   "execution_count": 1,
   "metadata": {},
   "outputs": [
    {
     "name": "stdin",
     "output_type": "stream",
     "text": [
      "Enter number of sides =  8\n",
      "Enter length of side =  100\n",
      "Enter color of side =  red\n",
      "Enter fill color of the polygon =  black\n"
     ]
    }
   ],
   "source": [
    "number_of_sides = int(input(\"Enter number of sides = \"))  # triangle, quadrilateral, etc are polygons\n",
    "length_of_side = int(input(\"Enter length of side = \"))\n",
    "color_of_side =  input(\"Enter color of side = \")\n",
    "fillcolor = input(\"Enter fill color of the polygon = \")\n",
    "\n",
    "import turtle\n",
    "wn = turtle.Screen()\n",
    "wn.bgcolor(fillcolor)      # Set the window background color\n",
    "wn.title(\"Hello, User!\")      # Set the window title\n",
    "\n",
    "alex = turtle.Turtle()\n",
    "alex.color(color_of_side)            # Tell alex to change his color\n",
    "\n",
    "for polygon in range(number_of_sides):\n",
    "    alex.forward(length_of_side)\n",
    "    alex.left(360/number_of_sides)    # this will decide the angle, it is critical\n",
    "\n",
    "wn.mainloop()    # # Wait for user to close window"
   ]
  },
  {
   "cell_type": "markdown",
   "metadata": {},
   "source": [
    "<img src = 'turtle1.png' />"
   ]
  },
  {
   "cell_type": "markdown",
   "metadata": {},
   "source": [
    "---\n",
    "\n",
    "### Question 7\n",
    "A drunk pirate makes a random turn and then takes 100 steps forward, makes another random turn, takes another 100 steps, turns another random amount, etc. A social science student records the angle of each turn before the next 100 steps are taken. Her experimental data is 160, -43, 270, -97, -43, 200, -940, 17, -86. (Positive angles are counter-clockwise.) Use a turtle to draw the path taken by our drunk friend. After the pirate is done walking, print the current heading.\n",
    "\n",
    "\n",
    "### Answer\n"
   ]
  },
  {
   "cell_type": "code",
   "execution_count": null,
   "metadata": {},
   "outputs": [],
   "source": []
  },
  {
   "cell_type": "code",
   "execution_count": null,
   "metadata": {},
   "outputs": [],
   "source": []
  },
  {
   "cell_type": "code",
   "execution_count": null,
   "metadata": {},
   "outputs": [],
   "source": []
  },
  {
   "cell_type": "code",
   "execution_count": null,
   "metadata": {},
   "outputs": [],
   "source": []
  },
  {
   "cell_type": "code",
   "execution_count": null,
   "metadata": {},
   "outputs": [],
   "source": []
  },
  {
   "cell_type": "code",
   "execution_count": null,
   "metadata": {},
   "outputs": [],
   "source": []
  },
  {
   "cell_type": "code",
   "execution_count": null,
   "metadata": {},
   "outputs": [],
   "source": []
  },
  {
   "cell_type": "code",
   "execution_count": null,
   "metadata": {},
   "outputs": [],
   "source": []
  },
  {
   "cell_type": "code",
   "execution_count": null,
   "metadata": {},
   "outputs": [],
   "source": []
  },
  {
   "cell_type": "code",
   "execution_count": null,
   "metadata": {},
   "outputs": [],
   "source": []
  },
  {
   "cell_type": "code",
   "execution_count": null,
   "metadata": {},
   "outputs": [],
   "source": []
  },
  {
   "cell_type": "markdown",
   "metadata": {},
   "source": [
    "---\n",
    "\n",
    "## **Concepts from Book**\n",
    "\n",
    "---\n",
    "\n",
    "Using the `turtle` module, create a rectangle"
   ]
  },
  {
   "cell_type": "code",
   "execution_count": 1,
   "metadata": {},
   "outputs": [],
   "source": [
    "import turtle               # load a module named turtle\n",
    "\n",
    "# The module brings us two new types that we can use: the `Turtle` type, and the `Screen` type. \n",
    "wn = turtle.Screen()        # creates a graphics window\n",
    "alex = turtle.Turtle()      # create a turtle named `alex`. Here `alex` is a variable\n",
    "# turtle.Turtle means “The Turtle type that is defined within the turtle module”\n",
    "\n",
    "# Let us instruct `Object` alex to move and to turn. We do this by invoking or activating alex’s `methods`. \n",
    "# Here the dot indicates that the `methods` invoked belong to and refer to the object `alex`.\n",
    "alex.forward(150)           # tell alex `Object` to move forward by 150 units. completes the 1st side of rectangle\n",
    "alex.left(90)               # turn by 90 degrees\n",
    "alex.forward(75)            # complete the second side of a rectangle\n",
    "\n",
    "alex.left(90)               # turn by 90 degrees\n",
    "alex.forward(150)            # complete the 3rd side of a rectangle\n",
    "\n",
    "alex.left(90)               # turn by 90 degrees\n",
    "alex.forward(75)            # complete the 4th side of a rectangle"
   ]
  },
  {
   "cell_type": "markdown",
   "metadata": {},
   "source": [
    "<img src = 'turtle.png' />"
   ]
  },
  {
   "cell_type": "markdown",
   "metadata": {},
   "source": [
    "In the above program,  we instruct the object alex to move, and to turn. We do this by `invoking`, or `activating`, alex‘s `methods` — these are the instructions that all turtles know how to respond to. An `object` can have various `methods` — things it can do — and it can also have `attributes` — (sometimes called `properties`). For example, each turtle has a color `attribute`. The `method` invocation `alex.color(\"red\")` will make alex red, and drawing will be red too.\n",
    "\n",
    "When we drew the square, it was quite tedious. We had to move then turn, move then turn, etc. etc. four times. If we were drawing a hexagon, or an octogon, or a polygon with 42 sides, it would have been a nightmare to duplicate all that code. A basic building block of all programs is to be able to repeat some code over and over again. In computer science, we refer to this repetitive idea as `iteration`.  In Python, the `for` statement allows us to write programs that implement iteration"
   ]
  },
  {
   "cell_type": "code",
   "execution_count": 1,
   "metadata": {},
   "outputs": [],
   "source": [
    "# Using the `for` loop, the above program can be made simpler\n",
    "\n",
    "import turtle               # load a module named turtle\n",
    "\n",
    "# The module brings us two new types that we can use: the `Turtle` type, and the `Screen` type. \n",
    "wn = turtle.Screen()        # creates a graphics window\n",
    "alex = turtle.Turtle()      # create a turtle named `alex`. Here `alex` is a variable\n",
    "# turtle.Turtle means “The Turtle type that is defined within the turtle module”\n",
    "\n",
    "for loop_variable in range(4):\n",
    "    alex.forward(50)\n",
    "    alex.left(90)"
   ]
  },
  {
   "cell_type": "code",
   "execution_count": 12,
   "metadata": {},
   "outputs": [
    {
     "name": "stdout",
     "output_type": "stream",
     "text": [
      "range(0, 4)\n",
      "[0, 1, 2, 3]\n",
      "[0, 2, 4, 6, 8, 10, 12, 14, 16, 18]\n",
      "[0, 2, 4, 6, 8, 10, 12, 14, 16, 18]\n",
      "[0, 2, 4, 6, 8, 10, 12, 14, 16, 18, 20]\n",
      "[10, 9, 8, 7, 6, 5, 4, 3, 2, 1]\n"
     ]
    }
   ],
   "source": [
    "print(range(4))\n",
    "print(list(range(4))) # generates a sequence\n",
    "\n",
    "print(list(range(0,19,2))) # first 10 even numbers, generates a sequence that stops before 19 (including parameter 18,19 excluded)\n",
    "print(list(range(0,20,2))) # first 10 even numbers, generates a sequence, parameter 20 will be excluded\n",
    "print(list(range(0,21,2))) # first 11 even numbers, generates a sequence\n",
    "\n",
    "print(list(range(10, 0, -1))) # sequence of numbers that starts big and gets smaller by using a negative value for the step parameter\n",
    "# parameter 0 will be excluded, parameter 10 will be included\n",
    "\n",
    "# The general form of the range is range(start, beyondLast, step)"
   ]
  },
  {
   "cell_type": "code",
   "execution_count": 13,
   "metadata": {},
   "outputs": [
    {
     "name": "stdout",
     "output_type": "stream",
     "text": [
      "0\n",
      "2\n",
      "4\n",
      "6\n",
      "8\n",
      "10\n",
      "12\n",
      "14\n",
      "16\n",
      "18\n"
     ]
    }
   ],
   "source": [
    "for i in range(0, 20, 2):\n",
    "    print(i)\n",
    "\n",
    "    # generates a sequence"
   ]
  },
  {
   "cell_type": "code",
   "execution_count": null,
   "metadata": {},
   "outputs": [],
   "source": []
  }
 ],
 "metadata": {
  "kernelspec": {
   "display_name": "Python 3",
   "language": "python",
   "name": "python3"
  },
  "language_info": {
   "codemirror_mode": {
    "name": "ipython",
    "version": 3
   },
   "file_extension": ".py",
   "mimetype": "text/x-python",
   "name": "python",
   "nbconvert_exporter": "python",
   "pygments_lexer": "ipython3",
   "version": "3.7.6"
  }
 },
 "nbformat": 4,
 "nbformat_minor": 4
}
