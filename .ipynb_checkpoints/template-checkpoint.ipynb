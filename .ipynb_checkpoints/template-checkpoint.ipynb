{
 "cells": [
  {
   "cell_type": "markdown",
   "metadata": {},
   "source": [
    "---\n",
    "\n",
    "### **Chapter 2 - Solutions**\n",
    "\n",
    "Name: **Ajeet**\n",
    "\n",
    "Collaborators: None\n",
    "\n",
    "Time spent:\n",
    "\n",
    "---"
   ]
  },
  {
   "cell_type": "code",
   "execution_count": null,
   "metadata": {},
   "outputs": [],
   "source": []
  },
  {
   "cell_type": "code",
   "execution_count": null,
   "metadata": {},
   "outputs": [],
   "source": []
  },
  {
   "cell_type": "code",
   "execution_count": null,
   "metadata": {},
   "outputs": [],
   "source": []
  },
  {
   "cell_type": "code",
   "execution_count": null,
   "metadata": {},
   "outputs": [],
   "source": []
  },
  {
   "cell_type": "code",
   "execution_count": null,
   "metadata": {},
   "outputs": [],
   "source": []
  },
  {
   "cell_type": "markdown",
   "metadata": {},
   "source": [
    "## Concepts from Book\n",
    "---\n",
    "\n",
    "**When we show the value of a string using the print function, the quotes are not present in the output.**\n",
    "\n",
    "Run print(\"Hello, World\") as script. The output will just Hello, World without quotes.\n",
    "Run print(\"Hello, World\") in the Python interpreter or shell.  The output will be same just Hello, World without quotes.\n",
    "But running \"Hello, World\" without print function in the Python interpreter will produce output with single quotes:  'Hello, World'\n",
    "\n",
    "---\n",
    "**Strings in Python can be enclosed in either single quotes (') or double quotes (\" - the double quote character), or three of the same separate quote characters (''' or \"\"\").** Triple quoted strings can even span multiple lines.\n",
    "\n",
    "---\n",
    "\n",
    "**Data Types are also called Class**\n",
    "\n",
    "---\n",
    "\n",
    "**Order of Operations**: https://runestone.academy/runestone/books/published/thinkcspy/SimplePythonData/OrderofOperations.html\n",
    "\n",
    "Multiplication and division both operators have the same precedence. Addition and Substraction both operators have the same precedence.\n",
    "Operators with the same precedence (except for `**`) are evaluated from left-to-right. In algebra we say they are left-associative. So in the expression 6-3+2, the subtraction happens first, yielding 3. We then add 2 to get the result 5.\n",
    "\n",
    "An exception to the left-to-right left-associative rule is the exponentiation operator `**`.\n",
    "A useful hint is to always use parentheses to force exactly the order you want when exponentiation is involved.\n",
    "\n",
    "print(2 ** 3 ** 2)   # the right-most ** operator gets done first!\n",
    "print((2 ** 3) ** 2)   # use parentheses to force the order you want!\n",
    "---\n",
    "\n",
    "**Assignment token**:  = is Python’s assignment token, which should not be confused with the mathematical comparison operator using the same symbol."
   ]
  },
  {
   "cell_type": "code",
   "execution_count": null,
   "metadata": {},
   "outputs": [],
   "source": []
  },
  {
   "cell_type": "code",
   "execution_count": null,
   "metadata": {},
   "outputs": [],
   "source": []
  }
 ],
 "metadata": {
  "kernelspec": {
   "display_name": "Python 3",
   "language": "python",
   "name": "python3"
  },
  "language_info": {
   "codemirror_mode": {
    "name": "ipython",
    "version": 3
   },
   "file_extension": ".py",
   "mimetype": "text/x-python",
   "name": "python",
   "nbconvert_exporter": "python",
   "pygments_lexer": "ipython3",
   "version": "3.7.6"
  }
 },
 "nbformat": 4,
 "nbformat_minor": 4
}
