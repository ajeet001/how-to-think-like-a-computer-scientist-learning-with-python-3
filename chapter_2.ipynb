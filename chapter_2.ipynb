{
 "cells": [
  {
   "cell_type": "markdown",
   "metadata": {},
   "source": [
    "---\n",
    "\n",
    "### **Chapter 2 - Solutions**\n",
    "\n",
    "Name: **Ajeet**\n",
    "\n",
    "Collaborators: None\n",
    "\n",
    "Time spent:\n",
    "\n",
    "---"
   ]
  },
  {
   "cell_type": "markdown",
   "metadata": {},
   "source": [
    "### Question 1\n",
    "\n",
    "After the following statements, what are the values of x and y?\n",
    "\n",
    "x = 15\n",
    "\n",
    "y = x\n",
    "\n",
    "x = 22\n"
   ]
  },
  {
   "cell_type": "markdown",
   "metadata": {},
   "source": [
    "\n",
    "### Answer \n",
    "\n",
    "When y = x at the second statement, the value of y became 15. At 3rd statement, the value of x chanaged to 22, but the value of y remained at 15.\n",
    "So, x = 22, y =15"
   ]
  },
  {
   "cell_type": "markdown",
   "metadata": {},
   "source": [
    "---\n",
    "\n",
    "### Question 2\n",
    "\n",
    "Take the sentence: All is well. Store each word in a separate variable, then print out the sentence on one line using print.\n",
    "\n",
    "Answer:"
   ]
  },
  {
   "cell_type": "code",
   "execution_count": 1,
   "metadata": {},
   "outputs": [
    {
     "name": "stdout",
     "output_type": "stream",
     "text": [
      "All is well\n"
     ]
    }
   ],
   "source": [
    "a = \"All\"\n",
    "b = \"is\"\n",
    "c = \"well\"\n",
    "print(a,b,c)"
   ]
  },
  {
   "cell_type": "markdown",
   "metadata": {},
   "source": [
    "Note that running  print(a, \" \", b, \" \", c)  will put extra space in the output"
   ]
  },
  {
   "cell_type": "code",
   "execution_count": 2,
   "metadata": {},
   "outputs": [
    {
     "name": "stdout",
     "output_type": "stream",
     "text": [
      "All   is   well\n"
     ]
    }
   ],
   "source": [
    " print(a, \" \", b, \" \", c)"
   ]
  },
  {
   "cell_type": "markdown",
   "metadata": {},
   "source": [
    "### Question 3\n",
    "\n",
    "Add parenthesis to the expression 6 * 1 - 2 to change its value from 4 to -6.\n",
    "\n",
    "\n",
    "### Answer"
   ]
  },
  {
   "cell_type": "code",
   "execution_count": 3,
   "metadata": {},
   "outputs": [
    {
     "name": "stdout",
     "output_type": "stream",
     "text": [
      "-6\n"
     ]
    }
   ],
   "source": [
    "print(6 * (1 - 2))"
   ]
  },
  {
   "cell_type": "markdown",
   "metadata": {},
   "source": [
    "### Question 4\n",
    "\n",
    "The formula for computing the final amount if one is earning compound interest is given on Wikipedia as\n",
    "\n",
    "<img src = \"compoundInterest.png\" />\n",
    "\n",
    "Write a Python program that assigns the principal amount of $10000 to variable P, assign to n the value 12, and assign to r the interest rate of 8%. Then have the program prompt the user for the number of years t that the money will be compounded for. Calculate and print the final amount after t years.\n",
    "\n",
    "### Answer\n",
    "\n",
    "A quick note: \n",
    "This image won't appear in GitHub if you use the code `<img src = \"compoundInterest.png\">` \n",
    "\n",
    "Use slash at the end `<img src = \"compoundInterest.png\" />`\n",
    "\n",
    "[Issue](https://github.com/jupyter/notebook/issues/3278#issuecomment-395038360)"
   ]
  },
  {
   "cell_type": "code",
   "execution_count": 13,
   "metadata": {},
   "outputs": [
    {
     "name": "stdin",
     "output_type": "stream",
     "text": [
      "Enter the number of years t that the money will be compounded for:  12\n"
     ]
    },
    {
     "name": "stdout",
     "output_type": "stream",
     "text": [
      "The final amount after 12 years is 26033.8924391382\n"
     ]
    }
   ],
   "source": [
    "p = 10000\n",
    "n = 12\n",
    "r = 0.08  # 8%\n",
    "\n",
    "number_of_years_t = int(input(\"Enter the number of years t that the money will be compounded for: \"))\n",
    "\n",
    "final_amount = p*(1 + r/n)**(n*number_of_years_t)\n",
    "\n",
    "print(\"The final amount after\",number_of_years_t, \"years is\", final_amount)"
   ]
  },
  {
   "cell_type": "markdown",
   "metadata": {},
   "source": [
    "---\n",
    "\n",
    "### Question 5\n",
    "\n",
    "Find the ouput\n",
    "\n",
    "0/7\n",
    "\n",
    "7/0\n",
    "\n",
    "8/7\n",
    "\n",
    "7/8\n",
    "\n",
    "0//7\n",
    "\n",
    "7//0\n",
    "\n",
    "8//7\n",
    "\n",
    "7//8\n",
    "\n",
    "0 % 7\n",
    "\n",
    "7 % 0\n",
    "\n",
    "### Answer"
   ]
  },
  {
   "cell_type": "code",
   "execution_count": 21,
   "metadata": {},
   "outputs": [
    {
     "name": "stdout",
     "output_type": "stream",
     "text": [
      "0.0\n"
     ]
    }
   ],
   "source": [
    "print(0/7)"
   ]
  },
  {
   "cell_type": "code",
   "execution_count": 22,
   "metadata": {},
   "outputs": [
    {
     "ename": "ZeroDivisionError",
     "evalue": "division by zero",
     "output_type": "error",
     "traceback": [
      "\u001b[1;31m---------------------------------------------------------------------------\u001b[0m",
      "\u001b[1;31mZeroDivisionError\u001b[0m                         Traceback (most recent call last)",
      "\u001b[1;32m<ipython-input-22-e342e9c1366e>\u001b[0m in \u001b[0;36m<module>\u001b[1;34m\u001b[0m\n\u001b[1;32m----> 1\u001b[1;33m \u001b[0mprint\u001b[0m\u001b[1;33m(\u001b[0m\u001b[1;36m7\u001b[0m\u001b[1;33m/\u001b[0m\u001b[1;36m0\u001b[0m\u001b[1;33m)\u001b[0m\u001b[1;33m\u001b[0m\u001b[1;33m\u001b[0m\u001b[0m\n\u001b[0m",
      "\u001b[1;31mZeroDivisionError\u001b[0m: division by zero"
     ]
    }
   ],
   "source": [
    "print(7/0)"
   ]
  },
  {
   "cell_type": "code",
   "execution_count": 27,
   "metadata": {},
   "outputs": [
    {
     "name": "stdout",
     "output_type": "stream",
     "text": [
      "1.1428571428571428\n",
      "0.875\n"
     ]
    }
   ],
   "source": [
    "print(8/7)\n",
    "\n",
    "print(7/8)"
   ]
  },
  {
   "cell_type": "code",
   "execution_count": 23,
   "metadata": {},
   "outputs": [
    {
     "name": "stdout",
     "output_type": "stream",
     "text": [
      "0\n"
     ]
    }
   ],
   "source": [
    "print(0//7)"
   ]
  },
  {
   "cell_type": "code",
   "execution_count": 24,
   "metadata": {},
   "outputs": [
    {
     "ename": "ZeroDivisionError",
     "evalue": "integer division or modulo by zero",
     "output_type": "error",
     "traceback": [
      "\u001b[1;31m---------------------------------------------------------------------------\u001b[0m",
      "\u001b[1;31mZeroDivisionError\u001b[0m                         Traceback (most recent call last)",
      "\u001b[1;32m<ipython-input-24-f125796ad5ad>\u001b[0m in \u001b[0;36m<module>\u001b[1;34m\u001b[0m\n\u001b[1;32m----> 1\u001b[1;33m \u001b[0mprint\u001b[0m\u001b[1;33m(\u001b[0m\u001b[1;36m7\u001b[0m\u001b[1;33m//\u001b[0m\u001b[1;36m0\u001b[0m\u001b[1;33m)\u001b[0m\u001b[1;33m\u001b[0m\u001b[1;33m\u001b[0m\u001b[0m\n\u001b[0m",
      "\u001b[1;31mZeroDivisionError\u001b[0m: integer division or modulo by zero"
     ]
    }
   ],
   "source": [
    "print(7//0)"
   ]
  },
  {
   "cell_type": "code",
   "execution_count": 28,
   "metadata": {},
   "outputs": [
    {
     "name": "stdout",
     "output_type": "stream",
     "text": [
      "1\n",
      "0\n"
     ]
    }
   ],
   "source": [
    "print(8//7)\n",
    "\n",
    "print(7//8)"
   ]
  },
  {
   "cell_type": "code",
   "execution_count": 25,
   "metadata": {},
   "outputs": [
    {
     "name": "stdout",
     "output_type": "stream",
     "text": [
      "0\n"
     ]
    }
   ],
   "source": [
    "print(0 % 7)"
   ]
  },
  {
   "cell_type": "code",
   "execution_count": 26,
   "metadata": {},
   "outputs": [
    {
     "ename": "ZeroDivisionError",
     "evalue": "integer division or modulo by zero",
     "output_type": "error",
     "traceback": [
      "\u001b[1;31m---------------------------------------------------------------------------\u001b[0m",
      "\u001b[1;31mZeroDivisionError\u001b[0m                         Traceback (most recent call last)",
      "\u001b[1;32m<ipython-input-26-da9e563d205a>\u001b[0m in \u001b[0;36m<module>\u001b[1;34m\u001b[0m\n\u001b[1;32m----> 1\u001b[1;33m \u001b[0mprint\u001b[0m\u001b[1;33m(\u001b[0m\u001b[1;36m7\u001b[0m \u001b[1;33m%\u001b[0m \u001b[1;36m0\u001b[0m\u001b[1;33m)\u001b[0m \u001b[1;31m# this will give error\u001b[0m\u001b[1;33m\u001b[0m\u001b[1;33m\u001b[0m\u001b[0m\n\u001b[0m",
      "\u001b[1;31mZeroDivisionError\u001b[0m: integer division or modulo by zero"
     ]
    }
   ],
   "source": [
    "print(7 % 0) # this will give error"
   ]
  },
  {
   "cell_type": "markdown",
   "metadata": {},
   "source": [
    "### Question 6\n",
    "\n",
    "You look at the clock and it is exactly 2pm. You set an alarm to go off in 51 hours. At what time does the alarm go off? (Hint: you could count on your fingers, but this is not what we’re after. If you are tempted to count on your fingers, change the 51 to 5100.)\n",
    "Write a Python program to solve the general version of the above problem. Ask the user for the time now (in hours), and ask for the number of hours to wait. Your program should output what the time will be on the clock when the alarm goes off.\n",
    "\n",
    "### Answer"
   ]
  },
  {
   "cell_type": "code",
   "execution_count": 6,
   "metadata": {},
   "outputs": [
    {
     "name": "stdin",
     "output_type": "stream",
     "text": [
      "Enter current time in hours 0 - 23, 0 means 12 AM:  5\n",
      "Enter number of hours to wait:  12\n"
     ]
    },
    {
     "name": "stdout",
     "output_type": "stream",
     "text": [
      "Alarm goes off at 17.0\n"
     ]
    }
   ],
   "source": [
    "current_time = float(input(\"Enter current time in hours 0 - 23, 0 means 12 AM: \"))\n",
    "# float as time may be 2.30 PM, so user should enter the correct time in both hours and minutes\n",
    "number_of_hours_to_wait = int(input(\"Enter number of hours to wait: \"))\n",
    "\n",
    "alarm_goes_off_hours = current_time + number_of_hours_to_wait\n",
    "\n",
    "time_alarm_goes_off_hours = alarm_goes_off_hours%24 # using the modulus operator- this will give the remainder\n",
    "\n",
    "print(\"Alarm goes off at\", time_alarm_goes_off_hours)"
   ]
  },
  {
   "cell_type": "markdown",
   "metadata": {},
   "source": [
    "---\n",
    "\n",
    "### Question 7:\n",
    "\n",
    "Based on Question, find out what's wrong with this program\n",
    "\n",
    "`current_time = input(\"What is the current time (in hours 0 - 23)?\")`\n",
    "\n",
    "`wait_time = input(\"How many hours do you want to wait\")`\n",
    "\n",
    "`print(current_time)`\n",
    "\n",
    "`print(wait_time)`\n",
    "\n",
    "`final_time = current_time + wait_time`\n",
    "\n",
    "`print(final_time)`\n"
   ]
  },
  {
   "cell_type": "markdown",
   "metadata": {},
   "source": [
    "### Answer"
   ]
  },
  {
   "cell_type": "code",
   "execution_count": 5,
   "metadata": {},
   "outputs": [
    {
     "name": "stdin",
     "output_type": "stream",
     "text": [
      "What is the current time (in hours 0 - 23)? 5\n",
      "How many hours do you want to wait 12\n"
     ]
    },
    {
     "name": "stdout",
     "output_type": "stream",
     "text": [
      "5\n",
      "12\n",
      "512\n"
     ]
    }
   ],
   "source": [
    "current_time = input(\"What is the current time (in hours 0 - 23)?\")\n",
    "\n",
    "wait_time = input(\"How many hours do you want to wait\")\n",
    "\n",
    "print(current_time)\n",
    "\n",
    "print(wait_time)\n",
    "\n",
    "final_time = current_time + wait_time\n",
    "\n",
    "print(final_time)"
   ]
  },
  {
   "cell_type": "markdown",
   "metadata": {},
   "source": [
    "At the 5th expression, python is doing string concatenation, not integer addition because `input` returns a string. The input numbers, say 5 and 12, were just concatenated together rather than added. So we will get the output of code `print(final_time)` as 512.  That is why I have added `int` before input to convert the string to an integer.\n",
    "\n",
    "---"
   ]
  },
  {
   "cell_type": "markdown",
   "metadata": {},
   "source": [
    "### Question 8\n",
    "\n",
    "Find and fix the error in the following code.\n",
    "\n",
    "`current_time_str = input(\"What is the current time (in hours 0-23)?\")`\n",
    "\n",
    "`wait_time_str = input(\"How many hours do you want to wait\"`\n",
    "\n",
    "`current_time_int = int(current_time_str)`\n",
    "\n",
    "`wait_time_int = int(wait_time_str)`\n",
    "\n",
    "`final_time_int = current_time_int + wait_time_int`\n",
    "\n",
    "`print(final_time_int)`\n",
    "\n",
    "\n",
    "### Answer\n",
    "\n",
    "The code  \n",
    "`wait_time_str = input(\"How many hours do you want to wait\"`   \n",
    "should be\n",
    "\n",
    "`wait_time_str = input(\"How many hours do you want to wait\")`\n",
    "\n",
    "A bracket is missing"
   ]
  },
  {
   "cell_type": "markdown",
   "metadata": {},
   "source": [
    "### Question 9\n",
    "\n",
    "Find and fix the error in the following code.\n",
    "\n",
    "current_time_str = input(\"What is the \"current time\" (in hours 0-23)?\")\n",
    "\n",
    "wait_time_str = input(\"How many hours do you want to wait\")\n",
    "\n",
    "current_time_int = int(current_time_str)\n",
    "\n",
    "wait_time_int = int(wait_time_str)\n",
    "\n",
    "final_time_int = current_time_int + wait_time_int\n",
    "\n",
    "print(final_time_int)\n",
    "\n",
    "\n",
    "\n",
    "### Answer\n",
    "\n",
    "The code \n",
    "`current_time_str = input(\"What is the \"current time\" (in hours 0-23)?\")`  \n",
    "should be \n",
    "`current_time_str = input(\"What is the 'current time (in hours 0-23)?\")`. "
   ]
  },
  {
   "cell_type": "code",
   "execution_count": null,
   "metadata": {},
   "outputs": [],
   "source": []
  },
  {
   "cell_type": "markdown",
   "metadata": {},
   "source": [
    "---\n",
    "## Concepts from Book\n",
    "---\n",
    "\n",
    "**When we show the value of a string using the print function, the quotes are not present in the output.**\n",
    "\n",
    "Run print(\"Hello, World\") as script. The output will just Hello, World without quotes.\n",
    "Run print(\"Hello, World\") in the Python interpreter or shell.  The output will be same just Hello, World without quotes.\n",
    "But running \"Hello, World\" without print function in the Python interpreter will produce output with single quotes:  'Hello, World'\n",
    "\n",
    "\n",
    "**Strings in Python can be enclosed in either single quotes (') or double quotes (\" - the double quote character), or three of the same separate quote characters (''' or \"\"\").** Triple quoted strings can even span multiple lines.\n",
    "\n",
    "\n",
    "\n",
    "**Data Types are also called Class**\n",
    "\n",
    "\n",
    "\n",
    "**Order of Operations**: https://runestone.academy/runestone/books/published/thinkcspy/SimplePythonData/OrderofOperations.html\n",
    "\n",
    "Multiplication and division both operators have the same precedence. Addition and Substraction both operators have the same precedence.\n",
    "Operators with the same precedence (except for `**`) are evaluated from left-to-right. In algebra we say they are left-associative. So in the expression 6-3+2, the subtraction happens first, yielding 3. We then add 2 to get the result 5.\n",
    "\n",
    "An exception to the left-to-right left-associative rule is the exponentiation operator `**`.\n",
    "A useful hint is to always use parentheses to force exactly the order you want when exponentiation is involved.\n",
    "\n",
    "`print(2 ** 3 ** 2)`    # the right-most ** operator gets done first!\n",
    "\n",
    "`print((2 ** 3) ** 2)`  # use parentheses to force the order you want!\n",
    "\n",
    "\n",
    "\n",
    "**Assignment token**: The equal sign `=` is Python’s assignment token, which should not be confused with the mathematical comparison operator using the same symbol.\n",
    "\n",
    "---"
   ]
  }
 ],
 "metadata": {
  "kernelspec": {
   "display_name": "Python 3",
   "language": "python",
   "name": "python3"
  },
  "language_info": {
   "codemirror_mode": {
    "name": "ipython",
    "version": 3
   },
   "file_extension": ".py",
   "mimetype": "text/x-python",
   "name": "python",
   "nbconvert_exporter": "python",
   "pygments_lexer": "ipython3",
   "version": "3.7.6"
  }
 },
 "nbformat": 4,
 "nbformat_minor": 4
}
